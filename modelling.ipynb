{
 "cells": [
  {
   "cell_type": "markdown",
   "id": "f2526611-fcd1-4ac4-98f8-a48a32e23d02",
   "metadata": {},
   "source": [
    "In this notebook, we will run a linear regression of the number of facilities on the population, the area and the number of licences by department."
   ]
  },
  {
   "cell_type": "markdown",
   "id": "b043c318-2761-46d6-8e76-2e04e89ebb5a",
   "metadata": {},
   "source": [
    "# **Preliminary steps**"
   ]
  },
  {
   "cell_type": "code",
   "execution_count": 1,
   "id": "19700d39-1bcb-4bc5-840e-e228734fcd7d",
   "metadata": {},
   "outputs": [],
   "source": [
    "# We first import the necessary packages\n",
    "\n",
    "# To manage databases\n",
    "import numpy as np\n",
    "import pandas as pd\n",
    "\n",
    "# To run regressions\n",
    "import statsmodels.api as sm\n",
    "from statsmodels.regression.linear_model import OLS"
   ]
  },
  {
   "cell_type": "code",
   "execution_count": 2,
   "id": "4ab14a28-c6a6-4f53-b206-a4419497e739",
   "metadata": {},
   "outputs": [],
   "source": [
    "### We import our databases\n",
    "\n",
    "%store -r df_departments"
   ]
  },
  {
   "cell_type": "markdown",
   "id": "476fd042-092a-4070-a603-767a3c71e778",
   "metadata": {},
   "source": [
    "# **Regression of the number of facilities on the population, the area and the number of licences**"
   ]
  },
  {
   "cell_type": "code",
   "execution_count": 3,
   "id": "39087b82-91f3-413f-9978-f1e7e54e1158",
   "metadata": {},
   "outputs": [
    {
     "data": {
      "text/html": [
       "<table class=\"simpletable\">\n",
       "<caption>OLS Regression Results</caption>\n",
       "<tr>\n",
       "  <th>Dep. Variable:</th>       <td>facilities</td>    <th>  R-squared:         </th> <td>   0.791</td>\n",
       "</tr>\n",
       "<tr>\n",
       "  <th>Model:</th>                   <td>OLS</td>       <th>  Adj. R-squared:    </th> <td>   0.784</td>\n",
       "</tr>\n",
       "<tr>\n",
       "  <th>Method:</th>             <td>Least Squares</td>  <th>  F-statistic:       </th> <td>   80.47</td>\n",
       "</tr>\n",
       "<tr>\n",
       "  <th>Date:</th>             <td>Sun, 06 Aug 2023</td> <th>  Prob (F-statistic):</th> <td>2.19e-25</td>\n",
       "</tr>\n",
       "<tr>\n",
       "  <th>Time:</th>                 <td>21:31:16</td>     <th>  Log-Likelihood:    </th> <td> -748.19</td>\n",
       "</tr>\n",
       "<tr>\n",
       "  <th>No. Observations:</th>      <td>    94</td>      <th>  AIC:               </th> <td>   1504.</td>\n",
       "</tr>\n",
       "<tr>\n",
       "  <th>Df Residuals:</th>          <td>    90</td>      <th>  BIC:               </th> <td>   1515.</td>\n",
       "</tr>\n",
       "<tr>\n",
       "  <th>Df Model:</th>              <td>     3</td>      <th>                     </th>     <td> </td>   \n",
       "</tr>\n",
       "<tr>\n",
       "  <th>Covariance Type:</th>         <td>HC3</td>       <th>                     </th>     <td> </td>   \n",
       "</tr>\n",
       "</table>\n",
       "<table class=\"simpletable\">\n",
       "<tr>\n",
       "       <td></td>         <th>coef</th>     <th>std err</th>      <th>z</th>      <th>P>|z|</th>  <th>[0.025</th>    <th>0.975]</th>  \n",
       "</tr>\n",
       "<tr>\n",
       "  <th>const</th>      <td>    7.1607</td> <td>  291.882</td> <td>    0.025</td> <td> 0.980</td> <td> -564.917</td> <td>  579.238</td>\n",
       "</tr>\n",
       "<tr>\n",
       "  <th>licences</th>   <td>    0.0152</td> <td>    0.002</td> <td>    9.123</td> <td> 0.000</td> <td>    0.012</td> <td>    0.018</td>\n",
       "</tr>\n",
       "<tr>\n",
       "  <th>population</th> <td>   -0.0004</td> <td>    0.000</td> <td>   -1.512</td> <td> 0.130</td> <td>   -0.001</td> <td>    0.000</td>\n",
       "</tr>\n",
       "<tr>\n",
       "  <th>area</th>       <td>    0.2228</td> <td>    0.045</td> <td>    4.928</td> <td> 0.000</td> <td>    0.134</td> <td>    0.311</td>\n",
       "</tr>\n",
       "</table>\n",
       "<table class=\"simpletable\">\n",
       "<tr>\n",
       "  <th>Omnibus:</th>       <td>22.799</td> <th>  Durbin-Watson:     </th> <td>   2.270</td>\n",
       "</tr>\n",
       "<tr>\n",
       "  <th>Prob(Omnibus):</th> <td> 0.000</td> <th>  Jarque-Bera (JB):  </th> <td>  38.706</td>\n",
       "</tr>\n",
       "<tr>\n",
       "  <th>Skew:</th>          <td> 0.995</td> <th>  Prob(JB):          </th> <td>3.94e-09</td>\n",
       "</tr>\n",
       "<tr>\n",
       "  <th>Kurtosis:</th>      <td> 5.433</td> <th>  Cond. No.          </th> <td>3.90e+06</td>\n",
       "</tr>\n",
       "</table><br/><br/>Notes:<br/>[1] Standard Errors are heteroscedasticity robust (HC3)<br/>[2] The condition number is large, 3.9e+06. This might indicate that there are<br/>strong multicollinearity or other numerical problems."
      ],
      "text/latex": [
       "\\begin{center}\n",
       "\\begin{tabular}{lclc}\n",
       "\\toprule\n",
       "\\textbf{Dep. Variable:}    &    facilities    & \\textbf{  R-squared:         } &     0.791   \\\\\n",
       "\\textbf{Model:}            &       OLS        & \\textbf{  Adj. R-squared:    } &     0.784   \\\\\n",
       "\\textbf{Method:}           &  Least Squares   & \\textbf{  F-statistic:       } &     80.47   \\\\\n",
       "\\textbf{Date:}             & Sun, 06 Aug 2023 & \\textbf{  Prob (F-statistic):} &  2.19e-25   \\\\\n",
       "\\textbf{Time:}             &     21:31:16     & \\textbf{  Log-Likelihood:    } &   -748.19   \\\\\n",
       "\\textbf{No. Observations:} &          94      & \\textbf{  AIC:               } &     1504.   \\\\\n",
       "\\textbf{Df Residuals:}     &          90      & \\textbf{  BIC:               } &     1515.   \\\\\n",
       "\\textbf{Df Model:}         &           3      & \\textbf{                     } &             \\\\\n",
       "\\textbf{Covariance Type:}  &       HC3        & \\textbf{                     } &             \\\\\n",
       "\\bottomrule\n",
       "\\end{tabular}\n",
       "\\begin{tabular}{lcccccc}\n",
       "                    & \\textbf{coef} & \\textbf{std err} & \\textbf{z} & \\textbf{P$> |$z$|$} & \\textbf{[0.025} & \\textbf{0.975]}  \\\\\n",
       "\\midrule\n",
       "\\textbf{const}      &       7.1607  &      291.882     &     0.025  &         0.980        &     -564.917    &      579.238     \\\\\n",
       "\\textbf{licences}   &       0.0152  &        0.002     &     9.123  &         0.000        &        0.012    &        0.018     \\\\\n",
       "\\textbf{population} &      -0.0004  &        0.000     &    -1.512  &         0.130        &       -0.001    &        0.000     \\\\\n",
       "\\textbf{area}       &       0.2228  &        0.045     &     4.928  &         0.000        &        0.134    &        0.311     \\\\\n",
       "\\bottomrule\n",
       "\\end{tabular}\n",
       "\\begin{tabular}{lclc}\n",
       "\\textbf{Omnibus:}       & 22.799 & \\textbf{  Durbin-Watson:     } &    2.270  \\\\\n",
       "\\textbf{Prob(Omnibus):} &  0.000 & \\textbf{  Jarque-Bera (JB):  } &   38.706  \\\\\n",
       "\\textbf{Skew:}          &  0.995 & \\textbf{  Prob(JB):          } & 3.94e-09  \\\\\n",
       "\\textbf{Kurtosis:}      &  5.433 & \\textbf{  Cond. No.          } & 3.90e+06  \\\\\n",
       "\\bottomrule\n",
       "\\end{tabular}\n",
       "%\\caption{OLS Regression Results}\n",
       "\\end{center}\n",
       "\n",
       "Notes: \\newline\n",
       " [1] Standard Errors are heteroscedasticity robust (HC3) \\newline\n",
       " [2] The condition number is large, 3.9e+06. This might indicate that there are \\newline\n",
       " strong multicollinearity or other numerical problems."
      ],
      "text/plain": [
       "<class 'statsmodels.iolib.summary.Summary'>\n",
       "\"\"\"\n",
       "                            OLS Regression Results                            \n",
       "==============================================================================\n",
       "Dep. Variable:             facilities   R-squared:                       0.791\n",
       "Model:                            OLS   Adj. R-squared:                  0.784\n",
       "Method:                 Least Squares   F-statistic:                     80.47\n",
       "Date:                Sun, 06 Aug 2023   Prob (F-statistic):           2.19e-25\n",
       "Time:                        21:31:16   Log-Likelihood:                -748.19\n",
       "No. Observations:                  94   AIC:                             1504.\n",
       "Df Residuals:                      90   BIC:                             1515.\n",
       "Df Model:                           3                                         \n",
       "Covariance Type:                  HC3                                         \n",
       "==============================================================================\n",
       "                 coef    std err          z      P>|z|      [0.025      0.975]\n",
       "------------------------------------------------------------------------------\n",
       "const          7.1607    291.882      0.025      0.980    -564.917     579.238\n",
       "licences       0.0152      0.002      9.123      0.000       0.012       0.018\n",
       "population    -0.0004      0.000     -1.512      0.130      -0.001       0.000\n",
       "area           0.2228      0.045      4.928      0.000       0.134       0.311\n",
       "==============================================================================\n",
       "Omnibus:                       22.799   Durbin-Watson:                   2.270\n",
       "Prob(Omnibus):                  0.000   Jarque-Bera (JB):               38.706\n",
       "Skew:                           0.995   Prob(JB):                     3.94e-09\n",
       "Kurtosis:                       5.433   Cond. No.                     3.90e+06\n",
       "==============================================================================\n",
       "\n",
       "Notes:\n",
       "[1] Standard Errors are heteroscedasticity robust (HC3)\n",
       "[2] The condition number is large, 3.9e+06. This might indicate that there are\n",
       "strong multicollinearity or other numerical problems.\n",
       "\"\"\""
      ]
     },
     "execution_count": 3,
     "metadata": {},
     "output_type": "execute_result"
    }
   ],
   "source": [
    "x = df_departments[['licences', 'population', 'area']]\n",
    "y = df_departments[['facilities']]\n",
    "x = sm.add_constant(x)\n",
    "\n",
    "# Affichage des paramètres de la régression linéaire double\n",
    "model = OLS(y,x)\n",
    "results = model.fit(cov_type='HC3')\n",
    "su = results.summary()\n",
    "su"
   ]
  },
  {
   "cell_type": "markdown",
   "id": "5a3f56c1-a521-4525-a5f1-60194028059a",
   "metadata": {},
   "source": [
    "- Population is not significant at the 1%, 5% nor 10% levels.\n",
    "- Area is significant at the 1% level and its coefficient is positive, so an increase in the area leads to an increase in the number of sport facilities (all other things remaining unchanged)\n",
    "- Number of liences is significant at the 1% level and its coefficient is positive, so an increase in the number of licences leads to an increase in the number of sport facilities (all other things remaining unchanged)"
   ]
  },
  {
   "cell_type": "code",
   "execution_count": null,
   "id": "f12d17fa-bf7f-41fc-9656-436d080da5ca",
   "metadata": {},
   "outputs": [],
   "source": []
  }
 ],
 "metadata": {
  "kernelspec": {
   "display_name": "Python 3 (ipykernel)",
   "language": "python",
   "name": "python3"
  },
  "language_info": {
   "codemirror_mode": {
    "name": "ipython",
    "version": 3
   },
   "file_extension": ".py",
   "mimetype": "text/x-python",
   "name": "python",
   "nbconvert_exporter": "python",
   "pygments_lexer": "ipython3",
   "version": "3.11.4"
  }
 },
 "nbformat": 4,
 "nbformat_minor": 5
}
