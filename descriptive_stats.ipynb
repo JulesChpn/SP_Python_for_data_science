{
 "cells": [
  {
   "cell_type": "markdown",
   "id": "d1b4451e-aac5-4d35-953a-dbb51ed22de3",
   "metadata": {},
   "source": [
    "In this notebook, we will run various descriptive statistics in regards to our databases to check their consistency and completeness."
   ]
  },
  {
   "cell_type": "markdown",
   "id": "91d9c45a-65d1-418d-8ce6-789d9f3ce374",
   "metadata": {},
   "source": [
    "# **Preliminary steps**"
   ]
  },
  {
   "cell_type": "code",
   "execution_count": 1,
   "id": "abf35f6c-e578-48f0-9ee8-deeaa2159954",
   "metadata": {},
   "outputs": [],
   "source": [
    "### We first import the necessary packages\n",
    "\n",
    "# To manage databases\n",
    "import numpy as np\n",
    "import pandas as pd\n",
    "\n",
    "# To show all columns in our dataframes\n",
    "pd.set_option('display.max_columns', None)"
   ]
  },
  {
   "cell_type": "code",
   "execution_count": 2,
   "id": "2b24d19f-4f84-447a-bcbb-adfd0b37473f",
   "metadata": {},
   "outputs": [],
   "source": [
    "### We import our databases\n",
    "\n",
    "%store -r facilities\n",
    "%store -r licences\n",
    "%store -r df_departments"
   ]
  },
  {
   "cell_type": "markdown",
   "id": "2df5a16d-f7e0-458c-9923-dc9c9b17a70e",
   "metadata": {},
   "source": [
    "# **Facilities**"
   ]
  },
  {
   "cell_type": "code",
   "execution_count": 3,
   "id": "603ef87f-f41c-4677-8fbb-f7cd182428ac",
   "metadata": {},
   "outputs": [
    {
     "data": {
      "text/plain": [
       "DepCode                                 0\n",
       "DepLib                                  0\n",
       "ComInsee                                0\n",
       "ComLib                                  0\n",
       "InsNumeroInstall                        0\n",
       "InsNom                               2565\n",
       "EquipementId                            0\n",
       "EquNom                                  0\n",
       "EquipementTypeCode                      0\n",
       "EquipementTypeLib                       0\n",
       "EquipementFamille                       0\n",
       "EquipementCateg                         0\n",
       "GestionTypeProprietairePrincLib      3211\n",
       "GestionTypeGestionnairePrincLib      4103\n",
       "GestionTypeProprietaireSecLib      265016\n",
       "GestionTypeGestionnaireSecLib      291795\n",
       "EquAnneeService                    115762\n",
       "NatureSolLib                         4735\n",
       "NatureLibelle                        3089\n",
       "EquUtilScolaire                         0\n",
       "EquUtilClub                             0\n",
       "EquUtilAutre                            0\n",
       "EquUtilIndividuel                       0\n",
       "EquUtilPerformance                      0\n",
       "EquUtilFormation                        0\n",
       "EquUtilRecreation                       0\n",
       "EquDateDernierTravauxReal          246672\n",
       "EquDateDernierTravauxAucun           2745\n",
       "EquGPSX                              2656\n",
       "EquGPSY                              2651\n",
       "dtype: int64"
      ]
     },
     "execution_count": 3,
     "metadata": {},
     "output_type": "execute_result"
    }
   ],
   "source": [
    "facilities.isnull().sum()"
   ]
  },
  {
   "cell_type": "code",
   "execution_count": 4,
   "id": "24815abb-8ff5-4301-ade5-cbe465ced778",
   "metadata": {},
   "outputs": [
    {
     "data": {
      "text/plain": [
       "DepCode                               107\n",
       "DepLib                                107\n",
       "ComInsee                            28458\n",
       "ComLib                              26732\n",
       "InsNumeroInstall                   139953\n",
       "InsNom                              77830\n",
       "EquipementId                       318037\n",
       "EquNom                             100821\n",
       "EquipementTypeCode                    163\n",
       "EquipementTypeLib                     163\n",
       "EquipementFamille                      30\n",
       "EquipementCateg                         7\n",
       "GestionTypeProprietairePrincLib        12\n",
       "GestionTypeGestionnairePrincLib        12\n",
       "GestionTypeProprietaireSecLib          12\n",
       "GestionTypeGestionnaireSecLib          12\n",
       "EquAnneeService                       203\n",
       "NatureSolLib                           16\n",
       "NatureLibelle                           7\n",
       "EquUtilScolaire                         2\n",
       "EquUtilClub                             2\n",
       "EquUtilAutre                            2\n",
       "EquUtilIndividuel                       2\n",
       "EquUtilPerformance                      2\n",
       "EquUtilFormation                        2\n",
       "EquUtilRecreation                       2\n",
       "EquDateDernierTravauxReal              64\n",
       "EquDateDernierTravauxAucun              2\n",
       "EquGPSX                            220366\n",
       "EquGPSY                            210679\n",
       "dtype: int64"
      ]
     },
     "execution_count": 4,
     "metadata": {},
     "output_type": "execute_result"
    }
   ],
   "source": [
    "facilities.nunique()"
   ]
  },
  {
   "cell_type": "markdown",
   "id": "3bc5c62f-13a9-41bf-8fa1-e5aad8333ec2",
   "metadata": {},
   "source": [
    "There is not much missing data in the columns we are intered in."
   ]
  },
  {
   "cell_type": "markdown",
   "id": "bb9fcff2-8f75-4f6c-9ff8-6c59d721e6de",
   "metadata": {},
   "source": [
    "# **Licences**"
   ]
  },
  {
   "cell_type": "code",
   "execution_count": 5,
   "id": "566b2def-dc9c-4a69-9629-694af5c4c78a",
   "metadata": {},
   "outputs": [
    {
     "data": {
      "text/plain": [
       "code_commune         0\n",
       "libelle              0\n",
       "region               0\n",
       "fed_2019             0\n",
       "nom_fed              0\n",
       "                  ... \n",
       "poph_30_44_2018    333\n",
       "poph_45_59_2018    333\n",
       "poph_60_74_2018    333\n",
       "poph_75_2018       333\n",
       "DepCode              0\n",
       "Length: 69, dtype: int64"
      ]
     },
     "execution_count": 5,
     "metadata": {},
     "output_type": "execute_result"
    }
   ],
   "source": [
    "licences.isnull().sum()"
   ]
  },
  {
   "cell_type": "code",
   "execution_count": 6,
   "id": "75126894-42b4-4fed-96f8-e1bd959ec04c",
   "metadata": {},
   "outputs": [
    {
     "data": {
      "text/plain": [
       "code_commune       34891\n",
       "libelle            32413\n",
       "region                18\n",
       "fed_2019              99\n",
       "nom_fed               99\n",
       "                   ...  \n",
       "poph_30_44_2018     1669\n",
       "poph_45_59_2018     1755\n",
       "poph_60_74_2018     1555\n",
       "poph_75_2018        1029\n",
       "DepCode               97\n",
       "Length: 69, dtype: int64"
      ]
     },
     "execution_count": 6,
     "metadata": {},
     "output_type": "execute_result"
    }
   ],
   "source": [
    "licences.nunique()"
   ]
  },
  {
   "cell_type": "markdown",
   "id": "9c5093d7-6def-4643-9842-4cb280a9eab5",
   "metadata": {},
   "source": [
    "There is no missing data in the columns we are interested in."
   ]
  },
  {
   "cell_type": "markdown",
   "id": "0f08031e-590e-460f-a97b-7d9442a014f2",
   "metadata": {},
   "source": [
    "# **Departments**"
   ]
  },
  {
   "cell_type": "code",
   "execution_count": 7,
   "id": "835088ae-c0b0-492b-bfe1-6f9c9fd74060",
   "metadata": {},
   "outputs": [
    {
     "data": {
      "text/plain": [
       "DepCode                             0\n",
       "DepName                             0\n",
       "geometry                            0\n",
       "facilities                          0\n",
       "licences                            0\n",
       "population                          0\n",
       "area                                0\n",
       "facilities_for_every_licence        0\n",
       "facilities_for_every_1000_people    0\n",
       "facilities_by_km²                   0\n",
       "licences_for_every_people           0\n",
       "licences_by_km²                     0\n",
       "dtype: int64"
      ]
     },
     "execution_count": 7,
     "metadata": {},
     "output_type": "execute_result"
    }
   ],
   "source": [
    "df_departments.isnull().sum()"
   ]
  },
  {
   "cell_type": "code",
   "execution_count": 8,
   "id": "91b59db2-b219-49c9-8e13-59ca4b455486",
   "metadata": {},
   "outputs": [
    {
     "data": {
      "text/html": [
       "<div>\n",
       "<style scoped>\n",
       "    .dataframe tbody tr th:only-of-type {\n",
       "        vertical-align: middle;\n",
       "    }\n",
       "\n",
       "    .dataframe tbody tr th {\n",
       "        vertical-align: top;\n",
       "    }\n",
       "\n",
       "    .dataframe thead th {\n",
       "        text-align: right;\n",
       "    }\n",
       "</style>\n",
       "<table border=\"1\" class=\"dataframe\">\n",
       "  <thead>\n",
       "    <tr style=\"text-align: right;\">\n",
       "      <th></th>\n",
       "      <th>facilities</th>\n",
       "      <th>licences</th>\n",
       "      <th>population</th>\n",
       "      <th>area</th>\n",
       "      <th>facilities_for_every_licence</th>\n",
       "      <th>facilities_for_every_1000_people</th>\n",
       "      <th>facilities_by_km²</th>\n",
       "      <th>licences_for_every_people</th>\n",
       "      <th>licences_by_km²</th>\n",
       "    </tr>\n",
       "  </thead>\n",
       "  <tbody>\n",
       "    <tr>\n",
       "      <th>count</th>\n",
       "      <td>94.000000</td>\n",
       "      <td>94.000000</td>\n",
       "      <td>9.400000e+01</td>\n",
       "      <td>94.000000</td>\n",
       "      <td>94.000000</td>\n",
       "      <td>94.000000</td>\n",
       "      <td>94.000000</td>\n",
       "      <td>94.000000</td>\n",
       "      <td>9.400000e+01</td>\n",
       "    </tr>\n",
       "    <tr>\n",
       "      <th>mean</th>\n",
       "      <td>3279.138298</td>\n",
       "      <td>153333.691489</td>\n",
       "      <td>7.267601e+05</td>\n",
       "      <td>5694.265957</td>\n",
       "      <td>0.026009</td>\n",
       "      <td>6.138168</td>\n",
       "      <td>1340.074366</td>\n",
       "      <td>0.230958</td>\n",
       "      <td>1.000981e+05</td>\n",
       "    </tr>\n",
       "    <tr>\n",
       "      <th>std</th>\n",
       "      <td>1521.761632</td>\n",
       "      <td>106323.735363</td>\n",
       "      <td>6.625107e+05</td>\n",
       "      <td>1933.277579</td>\n",
       "      <td>0.009657</td>\n",
       "      <td>2.858726</td>\n",
       "      <td>3715.086326</td>\n",
       "      <td>0.035138</td>\n",
       "      <td>3.721796e+05</td>\n",
       "    </tr>\n",
       "    <tr>\n",
       "      <th>min</th>\n",
       "      <td>837.000000</td>\n",
       "      <td>22360.000000</td>\n",
       "      <td>7.660400e+04</td>\n",
       "      <td>105.000000</td>\n",
       "      <td>0.009536</td>\n",
       "      <td>0.669846</td>\n",
       "      <td>144.345020</td>\n",
       "      <td>0.070242</td>\n",
       "      <td>4.327463e+03</td>\n",
       "    </tr>\n",
       "    <tr>\n",
       "      <th>25%</th>\n",
       "      <td>2079.000000</td>\n",
       "      <td>69402.250000</td>\n",
       "      <td>3.078570e+05</td>\n",
       "      <td>5185.500000</td>\n",
       "      <td>0.020573</td>\n",
       "      <td>4.618389</td>\n",
       "      <td>350.904993</td>\n",
       "      <td>0.213730</td>\n",
       "      <td>1.203634e+04</td>\n",
       "    </tr>\n",
       "    <tr>\n",
       "      <th>50%</th>\n",
       "      <td>2952.500000</td>\n",
       "      <td>118680.000000</td>\n",
       "      <td>5.477335e+05</td>\n",
       "      <td>5964.500000</td>\n",
       "      <td>0.025186</td>\n",
       "      <td>5.923834</td>\n",
       "      <td>541.771422</td>\n",
       "      <td>0.232443</td>\n",
       "      <td>2.057075e+04</td>\n",
       "    </tr>\n",
       "    <tr>\n",
       "      <th>75%</th>\n",
       "      <td>3956.500000</td>\n",
       "      <td>223337.000000</td>\n",
       "      <td>8.936722e+05</td>\n",
       "      <td>6775.000000</td>\n",
       "      <td>0.031038</td>\n",
       "      <td>7.184485</td>\n",
       "      <td>775.131502</td>\n",
       "      <td>0.250342</td>\n",
       "      <td>3.864403e+04</td>\n",
       "    </tr>\n",
       "    <tr>\n",
       "      <th>max</th>\n",
       "      <td>8534.000000</td>\n",
       "      <td>497217.000000</td>\n",
       "      <td>4.330846e+06</td>\n",
       "      <td>9976.000000</td>\n",
       "      <td>0.070177</td>\n",
       "      <td>21.774536</td>\n",
       "      <td>27628.571429</td>\n",
       "      <td>0.312065</td>\n",
       "      <td>2.897210e+06</td>\n",
       "    </tr>\n",
       "  </tbody>\n",
       "</table>\n",
       "</div>"
      ],
      "text/plain": [
       "        facilities       licences    population         area  \\\n",
       "count    94.000000      94.000000  9.400000e+01    94.000000   \n",
       "mean   3279.138298  153333.691489  7.267601e+05  5694.265957   \n",
       "std    1521.761632  106323.735363  6.625107e+05  1933.277579   \n",
       "min     837.000000   22360.000000  7.660400e+04   105.000000   \n",
       "25%    2079.000000   69402.250000  3.078570e+05  5185.500000   \n",
       "50%    2952.500000  118680.000000  5.477335e+05  5964.500000   \n",
       "75%    3956.500000  223337.000000  8.936722e+05  6775.000000   \n",
       "max    8534.000000  497217.000000  4.330846e+06  9976.000000   \n",
       "\n",
       "       facilities_for_every_licence  facilities_for_every_1000_people  \\\n",
       "count                     94.000000                         94.000000   \n",
       "mean                       0.026009                          6.138168   \n",
       "std                        0.009657                          2.858726   \n",
       "min                        0.009536                          0.669846   \n",
       "25%                        0.020573                          4.618389   \n",
       "50%                        0.025186                          5.923834   \n",
       "75%                        0.031038                          7.184485   \n",
       "max                        0.070177                         21.774536   \n",
       "\n",
       "       facilities_by_km²  licences_for_every_people  licences_by_km²  \n",
       "count          94.000000                  94.000000     9.400000e+01  \n",
       "mean         1340.074366                   0.230958     1.000981e+05  \n",
       "std          3715.086326                   0.035138     3.721796e+05  \n",
       "min           144.345020                   0.070242     4.327463e+03  \n",
       "25%           350.904993                   0.213730     1.203634e+04  \n",
       "50%           541.771422                   0.232443     2.057075e+04  \n",
       "75%           775.131502                   0.250342     3.864403e+04  \n",
       "max         27628.571429                   0.312065     2.897210e+06  "
      ]
     },
     "execution_count": 8,
     "metadata": {},
     "output_type": "execute_result"
    }
   ],
   "source": [
    "df_departments.describe()"
   ]
  },
  {
   "cell_type": "markdown",
   "id": "adfba3c9-ade6-4210-bdbf-5d1c70d9008d",
   "metadata": {},
   "source": []
  }
 ],
 "metadata": {
  "kernelspec": {
   "display_name": "Python 3 (ipykernel)",
   "language": "python",
   "name": "python3"
  },
  "language_info": {
   "codemirror_mode": {
    "name": "ipython",
    "version": 3
   },
   "file_extension": ".py",
   "mimetype": "text/x-python",
   "name": "python",
   "nbconvert_exporter": "python",
   "pygments_lexer": "ipython3",
   "version": "3.11.4"
  }
 },
 "nbformat": 4,
 "nbformat_minor": 5
}
